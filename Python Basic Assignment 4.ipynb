{
 "cells": [
  {
   "cell_type": "code",
   "execution_count": null,
   "id": "b512df50",
   "metadata": {},
   "outputs": [],
   "source": [
    "#1. What exactly is []?\n",
    "# It is a square bracket used for indexing or when it is assigned to any variable, it shows a blank list."
   ]
  },
  {
   "cell_type": "code",
   "execution_count": 3,
   "id": "59f7ebe2",
   "metadata": {},
   "outputs": [
    {
     "name": "stdout",
     "output_type": "stream",
     "text": [
      "[2, 4, 'Hello', 8, 10]\n"
     ]
    }
   ],
   "source": [
    "#2. In a list of values stored in a variable called spam, how would you assign the value 'hello' as the third value? (Assume [2, 4, 6, 8, 10] are in spam.)\n",
    "spam = [2, 4, 6, 8, 10]\n",
    "spam[2] = \"Hello\"\n",
    "print(spam)"
   ]
  },
  {
   "cell_type": "code",
   "execution_count": null,
   "id": "f5ac0b3c",
   "metadata": {},
   "outputs": [],
   "source": [
    "# Let's pretend the spam includes the list ['a', 'b', 'c', 'd'] for the next three queries."
   ]
  },
  {
   "cell_type": "code",
   "execution_count": 4,
   "id": "3db3390a",
   "metadata": {},
   "outputs": [
    {
     "data": {
      "text/plain": [
       "'d'"
      ]
     },
     "execution_count": 4,
     "metadata": {},
     "output_type": "execute_result"
    }
   ],
   "source": [
    "#3. What is the value of spam[int(int('3' * 2) / 11)]?\n",
    "spam = ['a', 'b', 'c', 'd']\n",
    "spam[int(int('3' * 2) / 11)]"
   ]
  },
  {
   "cell_type": "code",
   "execution_count": 7,
   "id": "f483726b",
   "metadata": {},
   "outputs": [
    {
     "data": {
      "text/plain": [
       "'d'"
      ]
     },
     "execution_count": 7,
     "metadata": {},
     "output_type": "execute_result"
    }
   ],
   "source": [
    "#4. What is the value of spam[-1]?\n",
    "spam[-1]"
   ]
  },
  {
   "cell_type": "code",
   "execution_count": 8,
   "id": "aef13f81",
   "metadata": {},
   "outputs": [
    {
     "data": {
      "text/plain": [
       "['a', 'b']"
      ]
     },
     "execution_count": 8,
     "metadata": {},
     "output_type": "execute_result"
    }
   ],
   "source": [
    "#5. What is the value of spam[:2]?\n",
    "spam[:2]"
   ]
  },
  {
   "cell_type": "code",
   "execution_count": null,
   "id": "3d90e9ff",
   "metadata": {},
   "outputs": [],
   "source": [
    "# Let's pretend bacon has the list [3.14, 'cat,' 11, 'cat,' True] for the next three questions."
   ]
  },
  {
   "cell_type": "code",
   "execution_count": 15,
   "id": "afb246bf",
   "metadata": {},
   "outputs": [
    {
     "data": {
      "text/plain": [
       "1"
      ]
     },
     "execution_count": 15,
     "metadata": {},
     "output_type": "execute_result"
    }
   ],
   "source": [
    "#6. What is the value of bacon.index('cat')?\n",
    "bacon = [3.14, 'cat', 11, 'cat', True]\n",
    "bacon.index('cat') # .index always gives the index of the first element."
   ]
  },
  {
   "cell_type": "code",
   "execution_count": 16,
   "id": "015d6d89",
   "metadata": {},
   "outputs": [
    {
     "name": "stdout",
     "output_type": "stream",
     "text": [
      "[3.14, 'cat', 11, 'cat', True, 99]\n"
     ]
    }
   ],
   "source": [
    "#7. How does bacon.append(99) change the look of the list value in bacon?\n",
    "# it will add 99 at the last of the list.\n",
    "bacon.append(99)\n",
    "print(bacon)"
   ]
  },
  {
   "cell_type": "code",
   "execution_count": 18,
   "id": "50b4d299",
   "metadata": {},
   "outputs": [
    {
     "name": "stdout",
     "output_type": "stream",
     "text": [
      "[3.14, 11, True, 99]\n"
     ]
    }
   ],
   "source": [
    "#8. How does bacon.remove('cat') change the look of the list in bacon?\n",
    "# it will remove element cat in the list.\n",
    "bacon.remove('cat')\n",
    "print(bacon)"
   ]
  },
  {
   "cell_type": "code",
   "execution_count": null,
   "id": "31fff8ec",
   "metadata": {},
   "outputs": [],
   "source": [
    "#9. What are the list concatenation and list replication operators?\n",
    "# list concatenation = it will add or concatenate the elements of another list and form a list which is a addition of the two lists.\n",
    "# list replication = it will just replicate the list."
   ]
  },
  {
   "cell_type": "code",
   "execution_count": 20,
   "id": "4937c362",
   "metadata": {},
   "outputs": [],
   "source": [
    "#10. What is difference between the list methods append() and insert()?\n",
    "# list append() = it will add the element at the last place of the list\n",
    "# list insert() = it will insert the element at the index provided."
   ]
  },
  {
   "cell_type": "code",
   "execution_count": 9,
   "id": "632d34ad",
   "metadata": {},
   "outputs": [
    {
     "data": {
      "text/plain": [
       "['two', 'three', 'four']"
      ]
     },
     "execution_count": 9,
     "metadata": {},
     "output_type": "execute_result"
    }
   ],
   "source": [
    "#11. What are the two methods for removing items from a list?\n",
    "# del, remove and pop are the methods to remove items from a list.\n",
    "\n",
    "lists = ['zero', 'one', 'two', 'three', 'four', 'five']\n",
    "del lists[0]\n",
    "lists\n",
    "\n",
    "lists.remove('one')\n",
    "lists\n",
    "\n",
    "lists.pop()\n",
    "lists"
   ]
  },
  {
   "cell_type": "code",
   "execution_count": null,
   "id": "37c371b6",
   "metadata": {},
   "outputs": [],
   "source": [
    "#12. Describe how list values and string values are identical.\n",
    "# The similarity between list and string is that they both are sequences. the diffrence between them is that list are mutable but string are immutable, the elements of the list can be of all types but the type of string is always a string which is ordered collection of characters.\n"
   ]
  },
  {
   "cell_type": "code",
   "execution_count": null,
   "id": "b67e9828",
   "metadata": {},
   "outputs": [],
   "source": [
    "#13. What's the difference between tuples and lists?\n",
    "# tuples are immutable and is used in Parentheses\n",
    "# Lists are mutable and is used in Square Brackets. "
   ]
  },
  {
   "cell_type": "code",
   "execution_count": 7,
   "id": "b156802a",
   "metadata": {},
   "outputs": [
    {
     "data": {
      "text/plain": [
       "(42,)"
      ]
     },
     "execution_count": 7,
     "metadata": {},
     "output_type": "execute_result"
    }
   ],
   "source": [
    "#14. How do you type a tuple value that only contains the integer 42?\n",
    "integer = (42,)\n",
    "integer"
   ]
  },
  {
   "cell_type": "code",
   "execution_count": 11,
   "id": "985b1327",
   "metadata": {},
   "outputs": [
    {
     "name": "stdout",
     "output_type": "stream",
     "text": [
      "[6, 7, 8, 9, 10]\n",
      "(1, 2, 3, 4, 5)\n"
     ]
    }
   ],
   "source": [
    "#15. How do you get a list value's tuple form? How do you get a tuple value's list form?\n",
    "\n",
    "lists = [1,2,3,4,5]\n",
    "tuples = (6,7,8,9,10)\n",
    "print(list(tuples))\n",
    "print(tuple(lists))\n"
   ]
  },
  {
   "cell_type": "code",
   "execution_count": null,
   "id": "942203ef",
   "metadata": {},
   "outputs": [],
   "source": [
    "#16. Variables that \"contain\" list values are not necessarily lists themselves. Instead, what do they contain?\n",
    "# It can contain anything like list, tuple, dict and string. \n"
   ]
  },
  {
   "cell_type": "code",
   "execution_count": 11,
   "id": "1b587995",
   "metadata": {},
   "outputs": [
    {
     "name": "stdout",
     "output_type": "stream",
     "text": [
      "[1, 2, ['@', 4, 5, 6], 7]\n",
      "[1, 2, [3, 4, 5, 6], 7]\n"
     ]
    }
   ],
   "source": [
    "#17. How do you distinguish between copy.copy() and copy.deepcopy()?\n",
    "\n",
    "# Deep Copy: \n",
    "\n",
    "import copy\n",
    "orgnl_lst = [1,2,[3,4,5,6],7]\n",
    "list_1 = copy.deepcopy(orgnl_lst) # It will only copy the content and when any changes made it will not make that change in original lst.\n",
    "list_1[2][0] = \"@\"\n",
    "print(list_1)\n",
    "print(orgnl_lst)"
   ]
  },
  {
   "cell_type": "code",
   "execution_count": 12,
   "id": "dc837a20",
   "metadata": {},
   "outputs": [
    {
     "name": "stdout",
     "output_type": "stream",
     "text": [
      "[1, 2, ['@', 4, 5, 6], 7]\n",
      "[1, 2, ['@', 4, 5, 6], 7]\n"
     ]
    }
   ],
   "source": [
    "# shallow Copy: \n",
    "\n",
    "import copy\n",
    "orgnl_lst = [1,2,[3,4,5,6],7]\n",
    "list_1 = copy.copy(orgnl_lst) # It will not only copy the content but will copy the reference as well, changes made at any of the one, will reflect in another.\n",
    "list_1[2][0] = \"@\"\n",
    "print(list_1)\n",
    "print(orgnl_lst)"
   ]
  },
  {
   "cell_type": "code",
   "execution_count": null,
   "id": "1301465a",
   "metadata": {},
   "outputs": [],
   "source": []
  }
 ],
 "metadata": {
  "kernelspec": {
   "display_name": "Python 3 (ipykernel)",
   "language": "python",
   "name": "python3"
  },
  "language_info": {
   "codemirror_mode": {
    "name": "ipython",
    "version": 3
   },
   "file_extension": ".py",
   "mimetype": "text/x-python",
   "name": "python",
   "nbconvert_exporter": "python",
   "pygments_lexer": "ipython3",
   "version": "3.9.7"
  }
 },
 "nbformat": 4,
 "nbformat_minor": 5
}
