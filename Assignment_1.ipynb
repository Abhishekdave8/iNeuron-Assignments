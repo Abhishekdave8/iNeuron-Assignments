{
  "metadata": {
    "language_info": {
      "codemirror_mode": {
        "name": "python",
        "version": 3
      },
      "file_extension": ".py",
      "mimetype": "text/x-python",
      "name": "python",
      "nbconvert_exporter": "python",
      "pygments_lexer": "ipython3",
      "version": "3.8"
    },
    "kernelspec": {
      "name": "python",
      "display_name": "Pyolite",
      "language": "python"
    }
  },
  "nbformat_minor": 4,
  "nbformat": 4,
  "cells": [
    {
      "cell_type": "raw",
      "source": "#q1. In the below elements which of them are values or an expression? eg:- values can be integer or string and expressions will be mathematical operators.\n* \n'hello'\n-87.8\n- \n/ ~\n+\t\n6\n\n\n\nAns: \n#1. * = This is operator and thus we can say it an expression.\n#2. 'hello' = This is string\n#3. -87.8 = This is value\n#4. - = This is operator and thus we can say it an expression.\n#5. / = This is operator and thus we can say it an expression.\n#6. + = This is operator and thus we can say it an expression.\n#7. 6 = This is value\n",
      "metadata": {}
    },
    {
      "cell_type": "raw",
      "source": "#q2. What is the difference between string and variable?\n\nAns: String: it is a characters, it can be an alphabetic character or an integer, it always comes in a '___'\nVariable: it is an entity which stores the data. ",
      "metadata": {}
    },
    {
      "cell_type": "raw",
      "source": "#q3. Describe three different data types.\n\nAns: Three different data types are:\n\n1. integer = digits\n2. variable = an entity which stores the data.\n3. list = a collection of a data. \n \n",
      "metadata": {}
    },
    {
      "cell_type": "raw",
      "source": "#q4. What is an expression made up of? What do all expressions do?\n\nAns: Expression is made up of variable, operator and method invocations. expressions executes the method and give us a single value in the end. ",
      "metadata": {}
    },
    {
      "cell_type": "raw",
      "source": "#q5. This assignment statements, like spam = 10. What is the difference between an expression and a statement?\n\nAns: in spam = 10, no execution of any method is happening and so it is not an expression but an statement. The difference between the expression and statement is that expression always gives us a single value in the end whereas in the statement it is not required, it can be just a simple written elements without any execution. \n\n\n",
      "metadata": {}
    },
    {
      "cell_type": "raw",
      "source": "#q6.  After running the following code, what does the variable bacon contain?\nbacon = 22\nbacon + 1\n",
      "metadata": {}
    },
    {
      "cell_type": "code",
      "source": "bacon = 22\nbacon + 1",
      "metadata": {
        "trusted": true
      },
      "execution_count": 13,
      "outputs": [
        {
          "execution_count": 13,
          "output_type": "execute_result",
          "data": {
            "text/plain": "23"
          },
          "metadata": {}
        }
      ]
    },
    {
      "cell_type": "raw",
      "source": "#q7. What should the values of the following two terms be?\n'spam' + 'spamspam'\n'spam' * 3\n",
      "metadata": {}
    },
    {
      "cell_type": "code",
      "source": "'spam' + 'spamspam'",
      "metadata": {
        "trusted": true
      },
      "execution_count": 14,
      "outputs": [
        {
          "execution_count": 14,
          "output_type": "execute_result",
          "data": {
            "text/plain": "'spamspamspam'"
          },
          "metadata": {}
        }
      ]
    },
    {
      "cell_type": "code",
      "source": "'spam' * 3",
      "metadata": {
        "trusted": true
      },
      "execution_count": 15,
      "outputs": [
        {
          "execution_count": 15,
          "output_type": "execute_result",
          "data": {
            "text/plain": "'spamspamspam'"
          },
          "metadata": {}
        }
      ]
    },
    {
      "cell_type": "raw",
      "source": "#q8. Why is eggs a valid variable name while 100 is invalid?\n\nAns: because of its type. you cannot assign a value to any integer or any special characters. in this case eggs is an alphabetic element which you can assign value to. ",
      "metadata": {}
    },
    {
      "cell_type": "code",
      "source": "100 = 200",
      "metadata": {
        "trusted": true
      },
      "execution_count": 16,
      "outputs": [
        {
          "ename": "<class 'SyntaxError'>",
          "evalue": "cannot assign to literal (<ipython-input-16-3832217524d9>, line 1)",
          "traceback": [
            "\u001b[0;36m  Input \u001b[0;32mIn [16]\u001b[0;36m\u001b[0m\n\u001b[0;31m    100 = 200\u001b[0m\n\u001b[0m    ^\u001b[0m\n\u001b[0;31mSyntaxError\u001b[0m\u001b[0;31m:\u001b[0m cannot assign to literal\n"
          ],
          "output_type": "error"
        }
      ]
    },
    {
      "cell_type": "code",
      "source": "eggs= 25",
      "metadata": {
        "trusted": true
      },
      "execution_count": 18,
      "outputs": []
    },
    {
      "cell_type": "raw",
      "source": "#q9. What three functions can be used to get the integer, floating-point number, or string version of a value?\n\nAns: int(), float() and str() will be used to achieve the condition.",
      "metadata": {}
    },
    {
      "cell_type": "code",
      "source": "i = '36545'\nint(i)",
      "metadata": {
        "trusted": true
      },
      "execution_count": 29,
      "outputs": [
        {
          "execution_count": 29,
          "output_type": "execute_result",
          "data": {
            "text/plain": "36545"
          },
          "metadata": {}
        }
      ]
    },
    {
      "cell_type": "code",
      "source": "i = 65.32",
      "metadata": {
        "trusted": true
      },
      "execution_count": 30,
      "outputs": []
    },
    {
      "cell_type": "code",
      "source": "float(i)",
      "metadata": {
        "trusted": true
      },
      "execution_count": 31,
      "outputs": [
        {
          "execution_count": 31,
          "output_type": "execute_result",
          "data": {
            "text/plain": "65.32"
          },
          "metadata": {}
        }
      ]
    },
    {
      "cell_type": "code",
      "source": "i = 2564855\nstr(i)",
      "metadata": {
        "trusted": true
      },
      "execution_count": 32,
      "outputs": [
        {
          "execution_count": 32,
          "output_type": "execute_result",
          "data": {
            "text/plain": "'2564855'"
          },
          "metadata": {}
        }
      ]
    },
    {
      "cell_type": "raw",
      "source": "#q10. Why does this expression cause an error? How can you fix it?\n'I have eaten ' + 99 + ' burritos.'\n\nAns: You cannot add two different data types, in this case 99 is a string value, thus first we need to change the type of 99 into string type, and than perform a task.\n",
      "metadata": {}
    },
    {
      "cell_type": "code",
      "source": "'i have eaten ' + str( 99)  + ' burritos'",
      "metadata": {
        "trusted": true
      },
      "execution_count": 41,
      "outputs": [
        {
          "execution_count": 41,
          "output_type": "execute_result",
          "data": {
            "text/plain": "'i have eaten 99 burritos'"
          },
          "metadata": {}
        }
      ]
    },
    {
      "cell_type": "code",
      "source": "",
      "metadata": {},
      "execution_count": null,
      "outputs": []
    }
  ]
}