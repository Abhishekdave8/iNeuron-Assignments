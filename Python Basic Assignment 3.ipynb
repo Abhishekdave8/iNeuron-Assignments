{
 "cells": [
  {
   "cell_type": "code",
   "execution_count": null,
   "id": "22e5cc0d",
   "metadata": {},
   "outputs": [],
   "source": [
    "#1. Why are functions advantageous to have in your programs?\n",
    "# It increases reaccesibility of a code. "
   ]
  },
  {
   "cell_type": "code",
   "execution_count": null,
   "id": "867c0d07",
   "metadata": {},
   "outputs": [],
   "source": [
    "#2. When does the code in a function run: when it's specified or when it's called?\n",
    "# When it is called."
   ]
  },
  {
   "cell_type": "code",
   "execution_count": 2,
   "id": "4b9342c0",
   "metadata": {},
   "outputs": [],
   "source": [
    "#3. What statement creates a function?\n",
    "def "
   ]
  },
  {
   "cell_type": "code",
   "execution_count": null,
   "id": "073ba7ea",
   "metadata": {},
   "outputs": [],
   "source": [
    "#4. What is the difference between a function and a function call?\n",
    "# A function is a procedure to achieve a perticular result while function call is a using this function to achieve that tast."
   ]
  },
  {
   "cell_type": "code",
   "execution_count": null,
   "id": "b601c3a7",
   "metadata": {},
   "outputs": [],
   "source": [
    "#5. How many global scopes are there in a Python program? How many local scopes?\n",
    "# There is one global scopes per programme in a python, and can have many local scopes."
   ]
  },
  {
   "cell_type": "code",
   "execution_count": null,
   "id": "3364e523",
   "metadata": {},
   "outputs": [],
   "source": [
    "#6. What happens to variables in a local scope when the function call returns?\n",
    "# 'return' gives the output after the execution of the code. A local variable becomes undefined after the function completes whereas global variable(if available) remain defined throught the programme."
   ]
  },
  {
   "cell_type": "code",
   "execution_count": null,
   "id": "e69b0a2f",
   "metadata": {},
   "outputs": [],
   "source": [
    "#7. What is the concept of a return value? Is it possible to have a return value in an expression?\n",
    "# A return statement is used to end the execution of the function by providing the result output. it is possible to return a value in an expression "
   ]
  },
  {
   "cell_type": "code",
   "execution_count": null,
   "id": "0fca6857",
   "metadata": {},
   "outputs": [],
   "source": [
    "#8. If a function does not have a return statement, what is the return value of a call to that function?\n",
    "# none"
   ]
  },
  {
   "cell_type": "code",
   "execution_count": null,
   "id": "8729dd30",
   "metadata": {},
   "outputs": [],
   "source": [
    "#9. How do you make a function variable refer to the global variable?\n",
    "# we can make a local variable inside the function and assign the value of global variable to that."
   ]
  },
  {
   "cell_type": "code",
   "execution_count": null,
   "id": "e395f024",
   "metadata": {},
   "outputs": [],
   "source": [
    "#10. What is the data type of None?\n",
    "# none type"
   ]
  },
  {
   "cell_type": "code",
   "execution_count": null,
   "id": "a3d37447",
   "metadata": {},
   "outputs": [],
   "source": [
    "#11. What does the sentence import areallyourpetsnamederic do?\n",
    "# It will import the moduel named areallyourpetsnamederic"
   ]
  },
  {
   "cell_type": "code",
   "execution_count": null,
   "id": "772f193f",
   "metadata": {},
   "outputs": [],
   "source": [
    "#12. If you had a bacon() feature in a spam module, what would you call it after importing spam?\n",
    "import spam\n",
    "bacon()"
   ]
  },
  {
   "cell_type": "code",
   "execution_count": null,
   "id": "f75a2cbf",
   "metadata": {},
   "outputs": [],
   "source": [
    "#13. What can you do to save a programme from crashing if it encounters an error?\n",
    "# use try and except."
   ]
  },
  {
   "cell_type": "code",
   "execution_count": null,
   "id": "e13956ad",
   "metadata": {},
   "outputs": [],
   "source": [
    "#14. What is the purpose of the try clause? What is the purpose of the except clause?\n",
    "# it will save our programme from crashing if it encounters an error."
   ]
  }
 ],
 "metadata": {
  "kernelspec": {
   "display_name": "Python 3 (ipykernel)",
   "language": "python",
   "name": "python3"
  },
  "language_info": {
   "codemirror_mode": {
    "name": "ipython",
    "version": 3
   },
   "file_extension": ".py",
   "mimetype": "text/x-python",
   "name": "python",
   "nbconvert_exporter": "python",
   "pygments_lexer": "ipython3",
   "version": "3.9.7"
  }
 },
 "nbformat": 4,
 "nbformat_minor": 5
}
